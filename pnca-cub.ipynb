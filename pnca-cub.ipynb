{
 "cells": [
  {
   "cell_type": "code",
   "execution_count": 1,
   "metadata": {},
   "outputs": [],
   "source": [
    "from pnca import ProxyNCA\n",
    "import torchvision.models\n",
    "import torch\n",
    "from torch.autograd import Variable\n",
    "from torchvision import datasets, transforms\n",
    "import numpy as np\n",
    "import time\n",
    "import matplotlib.pyplot as plt\n",
    "import data"
   ]
  },
  {
   "cell_type": "markdown",
   "metadata": {},
   "source": [
    "# 1. Training"
   ]
  },
  {
   "cell_type": "code",
   "execution_count": 3,
   "metadata": {},
   "outputs": [],
   "source": [
    "sz_batch = 32\n",
    "sz_embed = 64\n",
    "nb_classes = 100 // 2"
   ]
  },
  {
   "cell_type": "code",
   "execution_count": 4,
   "metadata": {},
   "outputs": [],
   "source": [
    "cub = torch.utils.data.DataLoader(\n",
    "    data.Birds(path = 'cub200/images', label_range = [0, nb_classes]),\n",
    "    batch_size = sz_batch,\n",
    "    shuffle = True,\n",
    "    num_workers = 4\n",
    ")"
   ]
  },
  {
   "cell_type": "code",
   "execution_count": 12,
   "metadata": {},
   "outputs": [],
   "source": [
    "inception = torchvision.models.inception_v3(pretrained=True)"
   ]
  },
  {
   "cell_type": "code",
   "execution_count": 13,
   "metadata": {},
   "outputs": [
    {
     "name": "stdout",
     "output_type": "stream",
     "text": [
      "\n"
     ]
    }
   ],
   "source": [
    "model = ProxyNCA(inception, sz_embed, nb_classes, sz_batch)\n",
    "model.cuda()\n",
    "print()"
   ]
  },
  {
   "cell_type": "code",
   "execution_count": null,
   "metadata": {},
   "outputs": [],
   "source": [
    "t1 = time.time()\n",
    "opt = torch.optim.Adam(model.parameters(), lr=0.001)\n",
    "nb_epochs = 100 # 7 * 60 * 60 / 70 = 360"
   ]
  },
  {
   "cell_type": "code",
   "execution_count": null,
   "metadata": {},
   "outputs": [
    {
     "name": "stdout",
     "output_type": "stream",
     "text": [
      "Training for 100 epochs.\n",
      "Epoch: 1, loss: 3.413837432861328, time (seconds): 120.57.\n",
      "Epoch: 2, loss: 2.9300901889801025, time (seconds): 121.89.\n",
      "Epoch: 4, loss: 2.7094390392303467, time (seconds): 122.13.\n",
      "Epoch: 5, loss: 2.5598316192626953, time (seconds): 120.38.\n"
     ]
    }
   ],
   "source": [
    "print(\"Training for {} epochs.\".format(nb_epochs))\n",
    "\n",
    "losses = []\n",
    "\n",
    "for e in range(1, nb_epochs + 1):\n",
    "    time_per_epoch_1 = time.time()\n",
    "    for x, y in cub:\n",
    "        # *model depends on batch size, at end of epoch, batch_size is uneven!\n",
    "        # alternatively: drop_last = True?\n",
    "        if y.shape[0] != sz_batch:\n",
    "            continue\n",
    "        opt.zero_grad()\n",
    "        loss = model(Variable(x).cuda(), Variable(y).cuda())\n",
    "        loss.backward()\n",
    "        opt.step()\n",
    "    time_per_epoch_2 = time.time()\n",
    "    losses.append(loss.data.cpu().numpy()[0])\n",
    "    print(\n",
    "        \"Epoch: {}, loss: {}, time (seconds): {:.2f}.\".format(\n",
    "            e, \n",
    "            losses[-1],\n",
    "            time_per_epoch_2 - time_per_epoch_1\n",
    "        )\n",
    "    )\n",
    "\n",
    "t2 = time.time()\n",
    "print(\"Total training time (minutes): {:.2f}.\".format((t2 - t1) / 60))"
   ]
  },
  {
   "cell_type": "code",
   "execution_count": 22,
   "metadata": {},
   "outputs": [],
   "source": [
    "torch.save(model, 'cub-{}-classes-{}-epochs.pt'.format(nb_classes, nb_epochs))"
   ]
  },
  {
   "cell_type": "code",
   "execution_count": 20,
   "metadata": {},
   "outputs": [],
   "source": [
    "np.save(\"cub-losses.npy\", losses)"
   ]
  },
  {
   "cell_type": "code",
   "execution_count": 21,
   "metadata": {},
   "outputs": [
    {
     "data": {
      "image/png": "[encoded data removed]",
      "text/plain": [
       "<matplotlib.figure.Figure at 0x7efc65a841d0>"
      ]
     },
     "metadata": {},
     "output_type": "display_data"
    }
   ],
   "source": [
    "losses = np.load(\"cub-losses.npy\")\n",
    "plt.plot(losses)\n",
    "plt.show()"
   ]
  },
  {
   "cell_type": "markdown",
   "metadata": {},
   "source": [
    "# 2. Inference & Evaluation"
   ]
  },
  {
   "cell_type": "markdown",
   "metadata": {},
   "source": [
    "## 2.1 Loading Data, Model and Predicting"
   ]
  },
  {
   "cell_type": "code",
   "execution_count": 11,
   "metadata": {},
   "outputs": [],
   "source": [
    "model = torch.load('cub-50-classes-100-epochs.pt')"
   ]
  },
  {
   "cell_type": "code",
   "execution_count": 12,
   "metadata": {},
   "outputs": [],
   "source": [
    "nb_classes = 200 // 2"
   ]
  },
  {
   "cell_type": "code",
   "execution_count": 13,
   "metadata": {},
   "outputs": [],
   "source": [
    "cub_tr = torch.utils.data.DataLoader(\n",
    "    # load classes 0 to 100\n",
    "    data.Birds(path = 'cub200/images', label_range = [0, nb_classes]), \n",
    "    batch_size = 50,\n",
    "    shuffle = False,\n",
    "    num_workers = 4\n",
    ")"
   ]
  },
  {
   "cell_type": "code",
   "execution_count": 14,
   "metadata": {},
   "outputs": [],
   "source": [
    "cub_te = torch.utils.data.DataLoader(\n",
    "    # load classes 100 to 200\n",
    "    data.Birds(path = 'cub200/images', label_range = [200 // 2, 200 // 2 + nb_classes]),\n",
    "    batch_size = 50,\n",
    "    shuffle = False,\n",
    "    num_workers = 4\n",
    ")"
   ]
  },
  {
   "cell_type": "code",
   "execution_count": 15,
   "metadata": {},
   "outputs": [],
   "source": [
    "def predict_batchwise(model, dataloader):\n",
    "    # only xs are transformed to embeddings, ys are only appended\n",
    "    xss = []\n",
    "    yss = []\n",
    "    for xs, ys in dataloader:\n",
    "        for x, y in zip(model(Variable(xs, volatile = True).cuda())[0].data.cpu().numpy(), ys):\n",
    "            xss.append(x)\n",
    "            yss.append(y)\n",
    "    return np.array(xss), np.array(yss)"
   ]
  },
  {
   "cell_type": "code",
   "execution_count": 16,
   "metadata": {},
   "outputs": [],
   "source": [
    "xs_tr, ys_tr = predict_batchwise(model.no_top_model, cub_tr)\n",
    "xs_te, ys_te = predict_batchwise(model.no_top_model, cub_te)"
   ]
  },
  {
   "cell_type": "markdown",
   "metadata": {},
   "source": [
    "## 2.2 NMI and R@k"
   ]
  },
  {
   "cell_type": "code",
   "execution_count": 17,
   "metadata": {},
   "outputs": [],
   "source": [
    "import evaluation"
   ]
  },
  {
   "cell_type": "code",
   "execution_count": 18,
   "metadata": {},
   "outputs": [
    {
     "name": "stdout",
     "output_type": "stream",
     "text": [
      "NMI tr : 0.3396951132786114 \n",
      "NMI te : 0.25464903925305515\n"
     ]
    }
   ],
   "source": [
    "print(\n",
    "    \"NMI tr : {} \\nNMI te : {}\".format(\n",
    "        evaluation.calc_nmi(ys_tr, evaluation.cluster_by_kmeans(xs_tr, nb_classes)),\n",
    "        evaluation.calc_nmi(ys_te, evaluation.cluster_by_kmeans(xs_te, nb_classes))\n",
    "    )\n",
    ")"
   ]
  },
  {
   "cell_type": "code",
   "execution_count": 19,
   "metadata": {},
   "outputs": [
    {
     "name": "stdout",
     "output_type": "stream",
     "text": [
      "R@1 : 0.11471571906354515\n",
      "R@2 : 0.17625418060200668\n",
      "R@4 : 0.24983277591973244\n",
      "R@8 : 0.3347826086956522\n",
      "R@1 : 0.017745645744331254\n",
      "R@2 : 0.046007229707525465\n",
      "R@4 : 0.08281301347354585\n",
      "R@8 : 0.14262241209332896\n"
     ]
    }
   ],
   "source": [
    "for xs, ys in [[xs_tr, ys_tr], [xs_te, ys_te]]:\n",
    "    for k in [1, 2, 4, 8]:\n",
    "        ys_pred_k = evaluation.assign_by_euclidian_at_k(xs, ys, k)\n",
    "        r_at_k = evaluation.recall_at_k(ys, ys_pred_k, k)\n",
    "        print(\"R@{} : {}\".format(k, r_at_k))"
   ]
  },
  {
   "cell_type": "code",
   "execution_count": 20,
   "metadata": {},
   "outputs": [
    {
     "data": {
      "text/plain": [
       "(array([[69, 78, 21,  4, 98,  2, 54, 49],\n",
       "        [ 5,  5, 82, 14, 28, 80, 73, 10],\n",
       "        [30, 10, 31, 65, 81, 19, 43,  0],\n",
       "        [40, 42, 19,  8, 90,  0, 90, 97],\n",
       "        [45, 74, 58, 77, 33, 86, 87,  9],\n",
       "        [37, 68, 21, 36, 61, 57, 57, 91],\n",
       "        [40, 22,  5, 72, 29, 40, 38, 87],\n",
       "        [50, 53, 80, 58, 21, 50, 80, 77],\n",
       "        [67, 95, 12, 97, 84, 29, 29, 53],\n",
       "        [12, 79, 22, 56,  1, 58, 56, 93]]),\n",
       " array([0, 0, 0, 0, 0, 0, 0, 0, 0, 0]))"
      ]
     },
     "execution_count": 20,
     "metadata": {},
     "output_type": "execute_result"
    }
   ],
   "source": [
    "ys_pred_k[:10], ys[:10]"
   ]
  },
  {
   "cell_type": "code",
   "execution_count": null,
   "metadata": {},
   "outputs": [],
   "source": []
  }
 ],
 "metadata": {
  "kernelspec": {
   "display_name": "Python 3",
   "language": "python",
   "name": "python3"
  },
  "language_info": {
   "codemirror_mode": {
    "name": "ipython",
    "version": 3
   },
   "file_extension": ".py",
   "mimetype": "text/x-python",
   "name": "python",
   "nbconvert_exporter": "python",
   "pygments_lexer": "ipython3",
   "version": "3.6.3"
  }
 },
 "nbformat": 4,
 "nbformat_minor": 2
}
