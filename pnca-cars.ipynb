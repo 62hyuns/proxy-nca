{
 "cells": [
  {
   "cell_type": "code",
   "execution_count": 1,
   "metadata": {},
   "outputs": [],
   "source": [
    "from pnca import ProxyNCA\n",
    "import torchvision.models\n",
    "import torch\n",
    "from torch.autograd import Variable\n",
    "from torchvision import datasets, transforms\n",
    "import numpy as np\n",
    "import time\n",
    "import matplotlib.pyplot as plt\n",
    "import data"
   ]
  },
  {
   "cell_type": "markdown",
   "metadata": {},
   "source": [
    "# 1. Training"
   ]
  },
  {
   "cell_type": "code",
   "execution_count": 2,
   "metadata": {},
   "outputs": [],
   "source": [
    "sz_batch = 32\n",
    "sz_embed = 64\n",
    "nb_classes = 196 // 2"
   ]
  },
  {
   "cell_type": "code",
   "execution_count": 3,
   "metadata": {},
   "outputs": [],
   "source": [
    "cars = torch.utils.data.DataLoader(\n",
    "    data.Cars(\"cars196/car_ims\", \"cars196/cars_annos.mat\", (0, nb_classes)),\n",
    "    batch_size = sz_batch,\n",
    "    shuffle = True,\n",
    "    num_workers = 4\n",
    ")"
   ]
  },
  {
   "cell_type": "code",
   "execution_count": 4,
   "metadata": {},
   "outputs": [],
   "source": [
    "inception = torchvision.models.inception_v3(pretrained=True)"
   ]
  },
  {
   "cell_type": "code",
   "execution_count": 5,
   "metadata": {},
   "outputs": [
    {
     "name": "stdout",
     "output_type": "stream",
     "text": [
      "\n"
     ]
    }
   ],
   "source": [
    "model = ProxyNCA(inception, sz_embed, nb_classes, sz_batch)\n",
    "model.cuda()\n",
    "print()"
   ]
  },
  {
   "cell_type": "code",
   "execution_count": 7,
   "metadata": {},
   "outputs": [],
   "source": [
    "t1 = time.time()\n",
    "opt = torch.optim.Adam(model.parameters(), lr=0.001)\n",
    "nb_epochs = 50 # 7 * 60 * 60 / 70 = 360"
   ]
  },
  {
   "cell_type": "code",
   "execution_count": null,
   "metadata": {},
   "outputs": [
    {
     "name": "stdout",
     "output_type": "stream",
     "text": [
      "Training for 50 epochs.\n",
      "Epoch: 1, loss: 4.1110734939575195, time (seconds): 460.85.\n",
      "Epoch: 2, loss: 3.5890636444091797, time (seconds): 338.63.\n",
      "Epoch: 3, loss: 3.3461289405822754, time (seconds): 582.88.\n"
     ]
    }
   ],
   "source": [
    "print(\"Training for {} epochs.\".format(nb_epochs))\n",
    "\n",
    "losses = []\n",
    "\n",
    "for e in range(1, nb_epochs + 1):\n",
    "    time_per_epoch_1 = time.time()\n",
    "    for x, y in cars:\n",
    "        # *model depends on batch size, at end of epoch, batch_size is uneven!\n",
    "        if y.shape[0] != sz_batch:\n",
    "            continue\n",
    "        opt.zero_grad()\n",
    "        loss = model(Variable(x).cuda(), Variable(y).cuda())\n",
    "        loss.backward()\n",
    "        opt.step()\n",
    "    time_per_epoch_2 = time.time()\n",
    "    losses.append(loss.data.cpu().numpy()[0])\n",
    "    print(\n",
    "        \"Epoch: {}, loss: {}, time (seconds): {:.2f}.\".format(\n",
    "            e, \n",
    "            losses[-1],\n",
    "            time_per_epoch_2 - time_per_epoch_1\n",
    "        )\n",
    "    )\n",
    "\n",
    "t2 = time.time()\n",
    "print(\"Total training time (minutes): {:.2f}.\".format((t2 - t1) / 60))"
   ]
  },
  {
   "cell_type": "code",
   "execution_count": 14,
   "metadata": {},
   "outputs": [],
   "source": [
    "torch.save(model, 'cars-{}-classes-{}-epochs.pt'.format(nb_classes, nb_epochs))"
   ]
  },
  {
   "cell_type": "code",
   "execution_count": 15,
   "metadata": {},
   "outputs": [],
   "source": [
    "np.save(\"cars-losses.npy\", losses)"
   ]
  },
  {
   "cell_type": "code",
   "execution_count": 16,
   "metadata": {},
   "outputs": [
    {
     "data": {
      "image/png": "[encoded data removed]",
      "text/plain": [
       "<matplotlib.figure.Figure at 0x7f2c47624550>"
      ]
     },
     "metadata": {},
     "output_type": "display_data"
    }
   ],
   "source": [
    "losses = np.load(\"cars-losses.npy\")\n",
    "plt.plot(losses)\n",
    "plt.show()"
   ]
  },
  {
   "cell_type": "markdown",
   "metadata": {},
   "source": [
    "# 2. Inference & Evaluation"
   ]
  },
  {
   "cell_type": "markdown",
   "metadata": {},
   "source": [
    "## 2.1 Loading Data, Model and Predicting"
   ]
  },
  {
   "cell_type": "code",
   "execution_count": 4,
   "metadata": {},
   "outputs": [],
   "source": [
    "model = torch.load('cars-98-classes-50-epochs.pt')"
   ]
  },
  {
   "cell_type": "code",
   "execution_count": 5,
   "metadata": {},
   "outputs": [],
   "source": [
    "nb_classes = 196 // 2"
   ]
  },
  {
   "cell_type": "code",
   "execution_count": 11,
   "metadata": {},
   "outputs": [],
   "source": [
    "cars_tr = torch.utils.data.DataLoader(\n",
    "    # pick first half\n",
    "    data.Cars(\"cars196/car_ims\", \"cars196/cars_annos.mat\", (0, nb_classes)),\n",
    "    batch_size = 50,\n",
    "    shuffle = False,\n",
    "    num_workers = 4\n",
    ")"
   ]
  },
  {
   "cell_type": "code",
   "execution_count": 26,
   "metadata": {},
   "outputs": [],
   "source": [
    "cars_te = torch.utils.data.DataLoader(\n",
    "    # pick last half\n",
    "    data.Cars(\"cars196/car_ims\", \"cars196/cars_annos.mat\", (196 // 2, 196 // 2 + nb_classes)),\n",
    "    batch_size = 50,\n",
    "    shuffle = False,\n",
    "    num_workers = 4\n",
    ")"
   ]
  },
  {
   "cell_type": "code",
   "execution_count": 23,
   "metadata": {},
   "outputs": [],
   "source": [
    "def predict_batchwise(model, dataloader):\n",
    "    # only xs are transformed to embeddings, ys are only appended\n",
    "    xss = []\n",
    "    yss = []\n",
    "    for xs, ys in dataloader:\n",
    "        for x, y in zip(model(Variable(xs, volatile = True).cuda())[0].data.cpu().numpy(), ys):\n",
    "            xss.append(x)\n",
    "            yss.append(y)\n",
    "    return np.array(xss), np.array(yss)"
   ]
  },
  {
   "cell_type": "code",
   "execution_count": 27,
   "metadata": {},
   "outputs": [],
   "source": [
    "xs_tr, ys_tr = predict_batchwise(model.no_top_model, cars_tr)\n",
    "xs_te, ys_te = predict_batchwise(model.no_top_model, cars_te)"
   ]
  },
  {
   "cell_type": "markdown",
   "metadata": {},
   "source": [
    "# 2.2 NMI and R@k"
   ]
  },
  {
   "cell_type": "code",
   "execution_count": 32,
   "metadata": {},
   "outputs": [],
   "source": [
    "import evaluation"
   ]
  },
  {
   "cell_type": "code",
   "execution_count": 39,
   "metadata": {},
   "outputs": [
    {
     "name": "stdout",
     "output_type": "stream",
     "text": [
      "NMI tr : 0.2755203774734414 \n",
      "NMI te : 0.18234555302365676\n"
     ]
    }
   ],
   "source": [
    "print(\n",
    "    \"NMI tr : {} \\nNMI te : {}\".format(\n",
    "        evaluation.calc_nmi(ys_tr, evaluation.cluster_by_kmeans(xs_tr, nb_classes)),\n",
    "        evaluation.calc_nmi(ys_te, evaluation.cluster_by_kmeans(xs_te, nb_classes))\n",
    "    )\n",
    ")"
   ]
  },
  {
   "cell_type": "code",
   "execution_count": 40,
   "metadata": {},
   "outputs": [
    {
     "name": "stdout",
     "output_type": "stream",
     "text": [
      "R@1 : 0.12886340977068794\n",
      "R@2 : 0.20176969092721833\n",
      "R@4 : 0.2878863409770688\n",
      "R@8 : 0.3806081754735793\n",
      "R@1 : 0.04515811492555678\n",
      "R@2 : 0.07825765965300849\n",
      "R@4 : 0.1296911529469669\n",
      "R@8 : 0.21164021164021163\n"
     ]
    }
   ],
   "source": [
    "for xs, ys in [[xs_tr, ys_tr], [xs_te, ys_te]]:\n",
    "    for k in [1, 2, 4, 8]:\n",
    "        ys_pred_k = evaluation.assign_by_euclidian_at_k(xs, ys, k)\n",
    "        r_at_k = evaluation.recall_at_k(ys, ys_pred_k, k)\n",
    "        print(\"R@{} : {}\".format(k, r_at_k))"
   ]
  },
  {
   "cell_type": "code",
   "execution_count": 41,
   "metadata": {},
   "outputs": [
    {
     "data": {
      "text/plain": [
       "(array([[66, 68, 66, 85, 90, 68, 76, 63],\n",
       "        [45, 60, 61, 84,  7, 55, 86, 96],\n",
       "        [ 0, 65, 45, 96, 49, 48, 49, 34],\n",
       "        [92, 67, 67, 15, 67, 62, 48, 67],\n",
       "        [50, 68, 28, 42, 66, 48,  1, 69],\n",
       "        [49, 43, 75, 43, 75, 96, 60, 55],\n",
       "        [89, 29, 95, 46,  4, 35, 78, 48],\n",
       "        [37, 77, 35, 76, 57, 77, 94, 73],\n",
       "        [40, 47, 79, 86, 80, 49,  5, 24],\n",
       "        [66, 92, 45, 47,  3, 52, 50, 83]]),\n",
       " array([0, 0, 0, 0, 0, 0, 0, 0, 0, 0]))"
      ]
     },
     "execution_count": 41,
     "metadata": {},
     "output_type": "execute_result"
    }
   ],
   "source": [
    "ys_pred_k[:10], ys[:10]"
   ]
  }
 ],
 "metadata": {
  "kernelspec": {
   "display_name": "Python 3",
   "language": "python",
   "name": "python3"
  },
  "language_info": {
   "codemirror_mode": {
    "name": "ipython",
    "version": 3
   },
   "file_extension": ".py",
   "mimetype": "text/x-python",
   "name": "python",
   "nbconvert_exporter": "python",
   "pygments_lexer": "ipython3",
   "version": "3.6.3"
  }
 },
 "nbformat": 4,
 "nbformat_minor": 2
}
